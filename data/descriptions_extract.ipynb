{
 "cells": [
  {
   "cell_type": "code",
   "execution_count": 1,
   "id": "1bb4b180",
   "metadata": {},
   "outputs": [
    {
     "data": {
      "text/plain": [
       "['apbiv-200', 'apbiv-342', 'apbiv-401', 'apbiv-423', 'apscv-366']"
      ]
     },
     "execution_count": 1,
     "metadata": {},
     "output_type": "execute_result"
    }
   ],
   "source": [
    "import pandas as pd\n",
    "\n",
    "aoc_courses_df = pd.read_csv(\"aoc_courses.csv\")\n",
    "aoc_courses = aoc_courses_df['course_code'].tolist()\n",
    "aoc_courses[:5]"
   ]
  },
  {
   "cell_type": "code",
   "execution_count": 2,
   "id": "34b075b7",
   "metadata": {},
   "outputs": [
    {
     "data": {
      "text/plain": [
       "200"
      ]
     },
     "execution_count": 2,
     "metadata": {},
     "output_type": "execute_result"
    }
   ],
   "source": [
    "import requests\n",
    "\n",
    "base_url = \"https://vancouver.calendar.ubc.ca/course-descriptions/courses/\"\n",
    "example_course = aoc_courses[10]\n",
    "\n",
    "example_url = base_url+example_course\n",
    "example_response = requests.get(example_url)\n",
    "example_response.status_code"
   ]
  },
  {
   "cell_type": "code",
   "execution_count": 3,
   "id": "1a76ba90",
   "metadata": {},
   "outputs": [
    {
     "name": "stdout",
     "output_type": "stream",
     "text": [
      "<article class=\"node node--type-course node--promoted node--view-mode-full\">\n",
      "<div class=\"flow-root text-formatted node__content relative\">\n",
      "<h3 class=\"text-lg\">BEST_V 202 (3)  <strong>Alternative Energy Systems</strong></h3>\n",
      "<p class=\"mt-0\">Introduction to safe, clean, and sustainable supplies of energy. Economic, social, environmental, and policy issues raised by current systems of energy use and production are examined. [3-0-0] <em></em> </p>\n",
      "</div>\n",
      "</article>\n"
     ]
    }
   ],
   "source": [
    "from bs4 import BeautifulSoup\n",
    "\n",
    "example_content = example_response.content\n",
    "example_soup = BeautifulSoup(example_content, 'html.parser')\n",
    "example_course_content = example_soup.find(class_='node node--type-course node--promoted node--view-mode-full')\n",
    "print(example_course_content)"
   ]
  },
  {
   "cell_type": "code",
   "execution_count": 4,
   "id": "c4bf1b74",
   "metadata": {},
   "outputs": [
    {
     "name": "stdout",
     "output_type": "stream",
     "text": [
      "{'course_code': 'BEST_V 202', 'course_title': 'Alternative Energy Systems', 'course_desc': 'Introduction to safe, clean, and sustainable supplies of energy. Economic, social, environmental, and policy issues raised by current systems of energy use and production are examined. [3-0-0]'}\n"
     ]
    }
   ],
   "source": [
    "import re\n",
    "\n",
    "test = {}\n",
    "test['course_code'] = re.findall(r'\\b[A-Z]{3,}_V \\d{3}\\b', example_course_content.find('h3').text)[0]\n",
    "test['course_title'] = example_course_content.find('strong').text\n",
    "test['course_desc'] = example_course_content.find(class_='mt-0').text.strip()\n",
    "print(test)"
   ]
  },
  {
   "cell_type": "code",
   "execution_count": 6,
   "id": "4a116e53",
   "metadata": {},
   "outputs": [
    {
     "name": "stdout",
     "output_type": "stream",
     "text": [
      "Skipping course lfsv-101 due to error: 'NoneType' object has no attribute 'find'\n",
      "Skipping course mathv-200 due to error: 'NoneType' object has no attribute 'find'\n",
      "Skipping course mathv-215 due to error: 'NoneType' object has no attribute 'find'\n",
      "Skipping course mathv-221 due to error: 'NoneType' object has no attribute 'find'\n",
      "Skipping course mathv-255 due to error: 'NoneType' object has no attribute 'find'\n",
      "Skipping course mechv-411 due to error: 'NoneType' object has no attribute 'find'\n",
      "Skipping course micbv-211 due to error: 'NoneType' object has no attribute 'find'\n",
      "Skipping course micbv-301 due to error: 'NoneType' object has no attribute 'find'\n",
      "Skipping course poliv-375a due to error: 'NoneType' object has no attribute 'find'\n"
     ]
    }
   ],
   "source": [
    "import time\n",
    "\n",
    "aoc_courses_list = []\n",
    "\n",
    "for course in aoc_courses:\n",
    "    try:\n",
    "        url = base_url + course\n",
    "        response = requests.get(url)\n",
    "        content = response.content\n",
    "\n",
    "        soup = BeautifulSoup(content, 'html.parser')\n",
    "        course_content = soup.find(class_='node node--type-course node--promoted node--view-mode-full')\n",
    "\n",
    "        # if not course_content:\n",
    "        #     continue\n",
    "\n",
    "        code_match = re.findall(r'\\b[A-Z]{3,}_V \\d{3}\\b', course_content.find('h3').text)\n",
    "        if code_match:\n",
    "            course_data = {\n",
    "                'course_code': code_match[0],\n",
    "                'course_title': course_content.find('strong').text,\n",
    "                'course_desc': course_content.find(class_='mt-0').text.strip()\n",
    "            }\n",
    "            aoc_courses_list.append(course_data)\n",
    "            \n",
    "    except Exception as e:\n",
    "        print(f\"Skipping course {course} due to error: {e}\")\n",
    "        continue\n",
    "\n",
    "    time.sleep(0.5)"
   ]
  },
  {
   "cell_type": "code",
   "execution_count": 8,
   "id": "7be0f0f1",
   "metadata": {},
   "outputs": [
    {
     "name": "stdout",
     "output_type": "stream",
     "text": [
      "130\n",
      "139\n"
     ]
    }
   ],
   "source": [
    "print(len(aoc_courses_list))\n",
    "print(len(aoc_courses))"
   ]
  },
  {
   "cell_type": "code",
   "execution_count": 9,
   "id": "1f267440",
   "metadata": {},
   "outputs": [
    {
     "data": {
      "text/plain": [
       "[{'course_code': 'APBI_V 200',\n",
       "  'course_title': 'Introduction to Soil Science',\n",
       "  'course_desc': 'Physical, chemical and biological properties of soils; soil formation, classification, use and conservation. There are no prerequisites for this course, but background in Biology 12, Chemistry 12, and Physics 12 (or first-year university-level) is strongly advised. [3-2]'},\n",
       " {'course_code': 'APBI_V 342',\n",
       "  'course_title': 'Soil Biology',\n",
       "  'course_desc': 'The diversity of soil organisms (bacteria, protozoa, fungi, animals, plants) in natural and managed ecosystems; roles in primary production, nutrient cycling, decomposition and reclamation; interactions between soil organisms; responses to environmental change. [2-3-0] Prerequisite: [BIOL121] Equivalency: FRST310'},\n",
       " {'course_code': 'APBI_V 401',\n",
       "  'course_title': 'Soil Processes',\n",
       "  'course_desc': 'Understanding environmental factors influencing soil-forming processes and their ecological implications. Credit will be granted for only one of SOIL 501 or APBI 401. Prerequisite: APBI 200.'}]"
      ]
     },
     "execution_count": 9,
     "metadata": {},
     "output_type": "execute_result"
    }
   ],
   "source": [
    "aoc_courses_list[:3]"
   ]
  },
  {
   "cell_type": "code",
   "execution_count": 11,
   "id": "8e07658d",
   "metadata": {},
   "outputs": [],
   "source": [
    "import json\n",
    "\n",
    "with open(\"aoc_courses.json\", \"w\") as outfile:\n",
    "    json.dump(aoc_courses_list, outfile, indent=4)"
   ]
  },
  {
   "cell_type": "code",
   "execution_count": null,
   "id": "fb4f5b8d",
   "metadata": {},
   "outputs": [],
   "source": []
  }
 ],
 "metadata": {
  "kernelspec": {
   "display_name": "fos-data",
   "language": "python",
   "name": "python3"
  },
  "language_info": {
   "codemirror_mode": {
    "name": "ipython",
    "version": 3
   },
   "file_extension": ".py",
   "mimetype": "text/x-python",
   "name": "python",
   "nbconvert_exporter": "python",
   "pygments_lexer": "ipython3",
   "version": "3.13.2"
  }
 },
 "nbformat": 4,
 "nbformat_minor": 5
}
